{
 "cells": [
  {
   "cell_type": "code",
   "execution_count": 60,
   "metadata": {},
   "outputs": [
    {
     "name": "stdout",
     "output_type": "stream",
     "text": [
      "2.3.1+cpu\n"
     ]
    }
   ],
   "source": [
    "import torch\n",
    "from torch import nn as nn\n",
    "from torch import tensor\n",
    "import pandas as pd\n",
    "from sklearn.preprocessing import StandardScaler\n",
    "from sklearn.model_selection import train_test_split\n",
    "print(torch.__version__)\n"
   ]
  },
  {
   "cell_type": "markdown",
   "metadata": {},
   "source": [
    "Creating our Model"
   ]
  },
  {
   "cell_type": "code",
   "execution_count": 61,
   "metadata": {},
   "outputs": [],
   "source": [
    "class BinaryModel(nn.Module):\n",
    "    def __init__(self):\n",
    "        super(BinaryModel, self).__init__()\n",
    "        self.linear1 = nn.Linear(9,7)\n",
    "        self.linear2 = nn.Linear(7,4)\n",
    "        self.linear3 = nn.Linear(4,1)\n",
    "        self.activation = nn.Sigmoid()\n",
    "\n",
    "    def forward(self, x):\n",
    "        x = self.linear1(x)\n",
    "        x = self.linear2(x)\n",
    "        x = self.linear3(x)\n",
    "        x = self.activation(x)\n",
    "        return x\n",
    "    \n",
    "model = BinaryModel()"
   ]
  },
  {
   "cell_type": "markdown",
   "metadata": {},
   "source": [
    "Pre-Processing Data"
   ]
  },
  {
   "cell_type": "code",
   "execution_count": 62,
   "metadata": {},
   "outputs": [
    {
     "name": "stdout",
     "output_type": "stream",
     "text": [
      "footfall       0\n",
      "tempMode       0\n",
      "AQ             0\n",
      "USS            0\n",
      "CS             0\n",
      "VOC            0\n",
      "RP             0\n",
      "IP             0\n",
      "Temperature    0\n",
      "fail           0\n",
      "dtype: int64\n"
     ]
    }
   ],
   "source": [
    "data = pd.read_csv('./machine_failure.csv')\n",
    "print(data.isnull().sum())\n",
    "features = data.drop('fail', axis=1)\n",
    "labels = data['fail']\n",
    "scaler = StandardScaler()\n",
    "scaled_features = scaler.fit_transform(features)\n",
    "training_features, testing_features, training_labels, testing_labels = train_test_split(scaled_features, labels, train_size=0.2)\n",
    "training_features = tensor(training_features, dtype=torch.float32)\n",
    "training_labels = tensor(training_labels.values, dtype=torch.float32)\n",
    "testing_features = tensor(testing_features, dtype=torch.float32)\n",
    "testing_labels = tensor(testing_labels.values, dtype=torch.float32)"
   ]
  },
  {
   "cell_type": "markdown",
   "metadata": {},
   "source": [
    "Data Loaders\n",
    "feed the model tensors and provide labels for evaluation both during testing and training process."
   ]
  },
  {
   "cell_type": "code",
   "execution_count": 63,
   "metadata": {},
   "outputs": [],
   "source": [
    "from torch.utils.data import DataLoader, TensorDataset\n",
    "\n",
    "training_dataset = TensorDataset(training_features, training_labels)\n",
    "testing_dataset = TensorDataset(testing_features, testing_labels)\n",
    "\n",
    "training_loader = DataLoader(training_dataset, batch_size=40, shuffle=True)\n",
    "testing_loader = DataLoader(testing_dataset, batch_size=40, shuffle=False)"
   ]
  },
  {
   "cell_type": "markdown",
   "metadata": {},
   "source": [
    "Starting the training loop"
   ]
  },
  {
   "cell_type": "code",
   "execution_count": 64,
   "metadata": {},
   "outputs": [
    {
     "name": "stdout",
     "output_type": "stream",
     "text": [
      "Epoch 1/2400, Loss: 0.7644695043563843\n",
      "Epoch 101/2400, Loss: 0.2538984417915344\n",
      "Epoch 201/2400, Loss: 0.25200706720352173\n",
      "Epoch 301/2400, Loss: 0.33827465772628784\n",
      "Epoch 401/2400, Loss: 0.08609678596258163\n",
      "Epoch 501/2400, Loss: 0.17609095573425293\n",
      "Epoch 601/2400, Loss: 0.13988488912582397\n",
      "Epoch 701/2400, Loss: 0.36960864067077637\n",
      "Epoch 801/2400, Loss: 0.11546728760004044\n",
      "Epoch 901/2400, Loss: 0.10772253572940826\n",
      "Epoch 1001/2400, Loss: 0.06184583157300949\n",
      "Epoch 1101/2400, Loss: 0.10436626523733139\n",
      "Epoch 1201/2400, Loss: 0.24191156029701233\n",
      "Epoch 1301/2400, Loss: 0.2548418641090393\n",
      "Epoch 1401/2400, Loss: 0.29484400153160095\n",
      "Epoch 1501/2400, Loss: 0.21164098381996155\n",
      "Epoch 1601/2400, Loss: 0.08300195634365082\n",
      "Epoch 1701/2400, Loss: 0.17594607174396515\n",
      "Epoch 1801/2400, Loss: 0.12987369298934937\n",
      "Epoch 1901/2400, Loss: 0.2864238917827606\n",
      "Epoch 2001/2400, Loss: 0.15858721733093262\n",
      "Epoch 2101/2400, Loss: 0.2946973443031311\n",
      "Epoch 2201/2400, Loss: 0.11780799180269241\n",
      "Epoch 2301/2400, Loss: 0.09341846406459808\n"
     ]
    }
   ],
   "source": [
    "from torch import optim\n",
    "criterion = nn.BCELoss()\n",
    "optimizer = optim.Adam(model.parameters(), lr=0.01)\n",
    "\n",
    "model.train()\n",
    "num_of_epochs = 2400\n",
    "for epoch in range(num_of_epochs):\n",
    "  for features, labels in training_loader:\n",
    "    optimizer.zero_grad()\n",
    "    output = model(features)\n",
    "    loss = criterion(output, labels.view(-1,1))\n",
    "    loss.backward()\n",
    "    optimizer.step()\n",
    "  if epoch%100 == 0:\n",
    "    print(f'Epoch {epoch+1}/{num_of_epochs}, Loss: {loss.item()}')\n"
   ]
  },
  {
   "cell_type": "code",
   "execution_count": 65,
   "metadata": {},
   "outputs": [
    {
     "name": "stdout",
     "output_type": "stream",
     "text": [
      "Accuracy: 0.925000011920929\n",
      "Accuracy: 0.925000011920929\n",
      "Accuracy: 0.8999999761581421\n",
      "Accuracy: 0.8999999761581421\n",
      "Accuracy: 0.8799999952316284\n",
      "Accuracy: 0.8916666507720947\n",
      "Accuracy: 0.8892857432365417\n",
      "Accuracy: 0.8968750238418579\n",
      "Accuracy: 0.8972222208976746\n",
      "Accuracy: 0.9024999737739563\n",
      "Accuracy: 0.9022727012634277\n",
      "Accuracy: 0.9020833373069763\n",
      "Accuracy: 0.9038461446762085\n",
      "Accuracy: 0.9017857313156128\n",
      "Accuracy: 0.903333306312561\n",
      "Accuracy: 0.9046875238418579\n",
      "Accuracy: 0.9058823585510254\n",
      "Accuracy: 0.9055555462837219\n",
      "Accuracy: 0.9060846567153931\n"
     ]
    }
   ],
   "source": [
    "from torchmetrics import Accuracy \n",
    "\n",
    "accuracy = Accuracy(task='binary')\n",
    "model.eval()\n",
    "with torch.no_grad():\n",
    "    for features, labels in testing_loader:\n",
    "        output = model(features)\n",
    "        prediction = output.round()\n",
    "        accuracy.update(prediction, labels.view(-1,1))\n",
    "        model.train()\n",
    "\n",
    "        print(f'Accuracy: {accuracy.compute().item()}')"
   ]
  }
 ],
 "metadata": {
  "kernelspec": {
   "display_name": "Python 3",
   "language": "python",
   "name": "python3"
  },
  "language_info": {
   "codemirror_mode": {
    "name": "ipython",
    "version": 3
   },
   "file_extension": ".py",
   "mimetype": "text/x-python",
   "name": "python",
   "nbconvert_exporter": "python",
   "pygments_lexer": "ipython3",
   "version": "3.10.12"
  }
 },
 "nbformat": 4,
 "nbformat_minor": 2
}
